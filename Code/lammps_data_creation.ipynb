{
 "cells": [
  {
   "cell_type": "code",
   "execution_count": 26,
   "id": "f3cfb1df",
   "metadata": {},
   "outputs": [],
   "source": [
    "import numpy as np\n",
    "import pandas as pd"
   ]
  },
  {
   "cell_type": "code",
   "execution_count": 27,
   "id": "46729c61",
   "metadata": {},
   "outputs": [
    {
     "data": {
      "text/plain": [
       "(500, 288, 3)"
      ]
     },
     "execution_count": 27,
     "metadata": {},
     "output_type": "execute_result"
    }
   ],
   "source": [
    "#Loading npy data file\n",
    "X = np.load('ice_triple_II/data/data_10/set.000/coord.npy')\n",
    "X = np.reshape(X,(-1,288,3))\n",
    "X.shape"
   ]
  },
  {
   "cell_type": "code",
   "execution_count": 28,
   "id": "bcb05cde",
   "metadata": {},
   "outputs": [],
   "source": [
    "atom_type_list = []\n",
    "with open('ice_triple_I/data/data_0/type.raw','r') as fp:\n",
    "    atoms_type = [x.strip() for x in fp.readlines()]\n",
    "    for atom_type in atoms_type[0]:\n",
    "        if atom_type != ' ':\n",
    "            atom_type_list.append(int(atom_type) + 1)"
   ]
  },
  {
   "cell_type": "code",
   "execution_count": 33,
   "id": "ea8bf698",
   "metadata": {},
   "outputs": [],
   "source": [
    "first_frame = X[499,:,:]\n",
    "data = {}\n",
    "id_count = 1\n",
    "x_max = -float('inf')\n",
    "y_max = -float('inf')\n",
    "z_max = -float('inf')\n",
    "x_min = float('inf')\n",
    "y_min = float('inf')\n",
    "z_min = float('inf')\n",
    "\n",
    "#{\"\".join(first_frame[0][idx])}\n",
    "with open('ice_triple_II_'+str(288)+'.data','w') as fdata:\n",
    "    for idx in range(len(first_frame)):\n",
    "        coord = [str(x) for x in first_frame[idx]]\n",
    "        string = f'{id_count} {atom_type_list[idx]} {\" \".join(coord)}\\n'\n",
    "        fdata.write(string)\n",
    "        id_count += 1\n",
    "        data['id'] = {'type':atom_type_list[idx],'coord':first_frame[idx]}\n",
    "        x_max = max(x_max,first_frame[idx][0])\n",
    "        y_max = max(y_max,first_frame[idx][1])\n",
    "        z_max = max(z_max,first_frame[idx][2])\n",
    "        x_min = min(x_min,first_frame[idx][0])\n",
    "        y_min = min(y_min,first_frame[idx][1])\n",
    "        z_min = min(z_min,first_frame[idx][2])"
   ]
  },
  {
   "cell_type": "code",
   "execution_count": 34,
   "id": "7dce77b6",
   "metadata": {},
   "outputs": [
    {
     "name": "stdout",
     "output_type": "stream",
     "text": [
      "[13.545215, 15.132785, 14.190396] [-0.05307173, 0.06132617, 0.053709533]\n"
     ]
    }
   ],
   "source": [
    "print([x_max,y_max,z_max],[x_min,y_min,z_min])"
   ]
  },
  {
   "cell_type": "code",
   "execution_count": null,
   "id": "1ce008d4",
   "metadata": {},
   "outputs": [],
   "source": [
    "df = pd.DataFrame(data,columns=['id','Type','x','y','z'])\n",
    "df[['Type','id']] = df[['Type','id']].astype(int)"
   ]
  },
  {
   "cell_type": "code",
   "execution_count": null,
   "id": "24da8e9f",
   "metadata": {},
   "outputs": [],
   "source": []
  }
 ],
 "metadata": {
  "kernelspec": {
   "display_name": "Python 3 (ipykernel)",
   "language": "python",
   "name": "python3"
  },
  "language_info": {
   "codemirror_mode": {
    "name": "ipython",
    "version": 3
   },
   "file_extension": ".py",
   "mimetype": "text/x-python",
   "name": "python",
   "nbconvert_exporter": "python",
   "pygments_lexer": "ipython3",
   "version": "3.8.12"
  }
 },
 "nbformat": 4,
 "nbformat_minor": 5
}
